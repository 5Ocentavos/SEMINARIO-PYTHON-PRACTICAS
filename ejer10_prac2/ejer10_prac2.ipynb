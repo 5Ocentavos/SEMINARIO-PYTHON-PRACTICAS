{
 "cells": [
  {
   "cell_type": "markdown",
   "id": "c8be3635",
   "metadata": {},
   "source": [
    "## Enunciado:\n",
    "10. Trabajando con los contenidos de los archivos que pueden acceder en el curso:\n",
    "- nombres\n",
    "- eval1\n",
    "- eval2\n",
    "\n",
    "  Manipule estos archivos para realizar lo siguiente:\n",
    "- Generar una estructura con los nombres de los estudiantes y la suma de ambas notas.\n",
    "- Calcular el promedio de las notas totales e informar que alumnos obtuvieron menos que el promedio."
   ]
  },
  {
   "cell_type": "markdown",
   "id": "eb281946",
   "metadata": {},
   "source": [
    "## Resolución\n",
    "\n",
    "\n",
    "Para trabajar con el contenido de los archivos declaro las variables alumnos, notas_1 y notas_2, y les asigno el objeto que me retorne el llamado a la función extraer_datos_del_archivo con el nombre del archivo con el que quiero trabajar como parámetro.\n",
    "\n",
    "En esta función abro el archivo con el nombre que recibi como parámetro, me guardo en una variable el dato (en este caso una cadena de caracteres) y lo retorno luego de cerrar el archivo. \n"
   ]
  },
  {
   "cell_type": "code",
   "execution_count": 1,
   "id": "6cdf1c43",
   "metadata": {},
   "outputs": [],
   "source": [
    "def extraer_datos_del_archivo (nombre_archivo):\n",
    "    \"\"\"\n",
    "    Este método retorna el dato que guarda el archivo.\n",
    "    \"\"\"\n",
    "    archivo = open (nombre_archivo, 'r', encoding = 'utf-8')\n",
    "    dato_archivo = archivo.read ()\n",
    "    archivo.close ()\n",
    "    return dato_archivo\n",
    "\n",
    "alumnos = extraer_datos_del_archivo ('nombres_1.txt')\n",
    "notas_1 = extraer_datos_del_archivo ('eval1.txt')\n",
    "notas_2 = extraer_datos_del_archivo ('eval2.txt')"
   ]
  },
  {
   "cell_type": "markdown",
   "id": "bbd17f82",
   "metadata": {},
   "source": [
    "\n",
    "Cómo mis variables alumnos, notas_1 y notas_2 guardan caracteres que no me son utiles para el procesamiento final y no es cómodo trabajar con cadenas de caracteres, ejecutó la función generar_lista_de_datos. En la cual, hago un for quitando todos los caracteres de la tupla caracteres que recibó como tercer parámetro, obteniendo una cadena 'limpia'. Para, finalmente, aplicarle la funcion split a esa cadena y la retornarla.\n"
   ]
  },
  {
   "cell_type": "code",
   "execution_count": 2,
   "id": "bd469895",
   "metadata": {},
   "outputs": [],
   "source": [
    "def generar_lista_de_datos (dato, separacion = ' ', *caracteres):\n",
    "    \"\"\"\n",
    "    \n",
    "    \"\"\"\n",
    "    for quitar in caracteres:\n",
    "        dato = dato.replace (quitar, '')\n",
    "    return dato.split (separacion)\n",
    "\n",
    "alumnos = generar_lista_de_datos (alumnos, ',', '\\n', ' ','\\'')\n",
    "notas_1 = generar_lista_de_datos (notas_1, ',','\\n', ' ')\n",
    "notas_2 = generar_lista_de_datos (notas_2, ',','\\n',' ') "
   ]
  },
  {
   "cell_type": "markdown",
   "id": "c56de92e",
   "metadata": {},
   "source": [
    "\n",
    "Para hacer la suma entre notas_1 y notas_2 debo cambiar el tipo de los elementos que guarda cada variable. Para eso, ejecuto la función map, que recibe una lista de notas como parámetro y retorna el resultado de aplicarle a cada elemento de la lista la función int (). Luego, cambio el tipo que me retorna la función map a list. \n"
   ]
  },
  {
   "cell_type": "code",
   "execution_count": 3,
   "id": "88ce501e",
   "metadata": {},
   "outputs": [],
   "source": [
    "\n",
    "notas_1 = list (map (lambda num: int (num), notas))\n",
    "notas_2 = list (map (lambda num: int (num), notas))"
   ]
  },
  {
   "cell_type": "code",
   "execution_count": 4,
   "id": "2369e614",
   "metadata": {},
   "outputs": [],
   "source": [
    "def sumar_notas (notas_1, notas_2):\n",
    "    notas_total = []\n",
    "    for nota_1, nota_2 in zip (notas_1, notas_2):\n",
    "        notas_total.append (nota_1 + nota_2)\n",
    "    return notas_total\n",
    "\n",
    "suma_notas = sumar_notas (notas_1, notas_2)"
   ]
  },
  {
   "cell_type": "markdown",
   "id": "e94da33a",
   "metadata": {},
   "source": [
    "\n",
    "Para generar la estructura con los nombres de estudiantes y la suma de ambas notas ejecuto la función zip y le envio como parámetro alumnos y suma_total, esta me genera una lista de tuplas donde cada tupla se compone de dos elementos (nombre, nota). Luego, casteo el objeto que me retorna el zip a un tipo diccionario. \n"
   ]
  },
  {
   "cell_type": "code",
   "execution_count": 5,
   "id": "528ec5a5",
   "metadata": {},
   "outputs": [],
   "source": [
    "alumnos_nota_total = dict(zip (alumnos, suma_notas)) "
   ]
  },
  {
   "cell_type": "markdown",
   "id": "60988f06",
   "metadata": {},
   "source": [
    "\n",
    "Para calcular el promedio de las notas ejecuto la función sum, esta me va a retornar la suma de todas las notas de la lista, y divido el resultado con el tamaño de la lista de notas.\n"
   ]
  },
  {
   "cell_type": "code",
   "execution_count": 10,
   "id": "0e8210f3",
   "metadata": {},
   "outputs": [],
   "source": [
    "\n",
    "promedio = sum (suma_notas)/len (suma_notas)\n"
   ]
  },
  {
   "cell_type": "markdown",
   "id": "4127b1c8",
   "metadata": {},
   "source": [
    "\n",
    "Finalmente, para imprimir a los alumnos con nota menor al promedio, recorro el diccionario preguntando si la nota es menor al promedio, si lo es imprimo.\n"
   ]
  },
  {
   "cell_type": "code",
   "execution_count": 8,
   "id": "7abb2164",
   "metadata": {},
   "outputs": [
    {
     "name": "stdout",
     "output_type": "stream",
     "text": [
      "CESAR    :  78\n",
      "Diego    :  33\n",
      "Dolores  :  53\n",
      "DYLAN    :  74\n",
      "ELIANA   :  13\n",
      "Emanuel  :  48\n",
      "GONZALO  :  76\n",
      "Gregorio :  90\n",
      "Ignacio  :  21\n",
      "Jonathan :  62\n",
      "Jorge    :  79\n",
      "JUAN     :  68\n",
      "Julian   :  87\n",
      "Leonel   :  55\n",
      "Nicolás  :  65\n",
      "NICOLÁS  :  22\n",
      "Priscila :  24\n",
      "Yanina   :  84\n"
     ]
    }
   ],
   "source": [
    "def imprimir_alumnos_por_debajo_del_promedio (alumnos_nota_total, promedio):\n",
    "    for dato in alumnos_nota_total:\n",
    "        if (alumnos_nota_total [dato] < promedio):\n",
    "            print (f'{dato:<9}: {alumnos_nota_total[dato]:>3d}')\n",
    "\n",
    "imprimir_alumnos_por_debajo_del_promedio (alumnos_nota_total, promedio)"
   ]
  }
 ],
 "metadata": {
  "kernelspec": {
   "display_name": "Python 3 (ipykernel)",
   "language": "python",
   "name": "python3"
  },
  "language_info": {
   "codemirror_mode": {
    "name": "ipython",
    "version": 3
   },
   "file_extension": ".py",
   "mimetype": "text/x-python",
   "name": "python",
   "nbconvert_exporter": "python",
   "pygments_lexer": "ipython3",
   "version": "3.10.0"
  }
 },
 "nbformat": 4,
 "nbformat_minor": 5
}
